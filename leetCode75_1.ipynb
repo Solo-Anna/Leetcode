{
 "cells": [
  {
   "cell_type": "code",
   "execution_count": 17,
   "metadata": {},
   "outputs": [
    {
     "name": "stdout",
     "output_type": "stream",
     "text": [
      "[1, -1]\n",
      "0\n"
     ]
    }
   ],
   "source": [
    "# 724. Find Pivot Index\n",
    "\n",
    "def pivotIndex(nums):\n",
    "    i=0\n",
    "    nums_left=[]\n",
    "    nums_right=nums[1:]\n",
    "    print (nums_right)\n",
    "    sum_left=0\n",
    "    sum_right=sum(nums_right)\n",
    "    while sum_left!=sum_right and i<=len(nums_right)-1:\n",
    "        i+=1\n",
    "        sum_left+=nums[i-1]\n",
    "        sum_right-=nums[i]\n",
    "        print(i, sum_left, sum_right)\n",
    "    if sum_left == sum_right:\n",
    "        return i\n",
    "    else:\n",
    "        return \"-1\"\n",
    "\n",
    "nums = [2, 1, -1]\n",
    "print(pivotIndex(nums))"
   ]
  },
  {
   "cell_type": "code",
   "execution_count": 20,
   "metadata": {},
   "outputs": [
    {
     "name": "stdout",
     "output_type": "stream",
     "text": [
      "[1, 3, 6, 10]\n"
     ]
    }
   ],
   "source": [
    "# 1480. Running Sum of 1d Array\n",
    "def runningSum(nums):\n",
    "    x = nums[0]\n",
    "    sum =[x]\n",
    "    for i in range(len(nums)-1):\n",
    "        x += nums[i+1]\n",
    "        sum.append(x)\n",
    "    return sum\n",
    "\n",
    "nums = [1,2,3,4]\n",
    "print(runningSum(nums))"
   ]
  }
 ],
 "metadata": {
  "kernelspec": {
   "display_name": "Python 3",
   "language": "python",
   "name": "python3"
  },
  "language_info": {
   "codemirror_mode": {
    "name": "ipython",
    "version": 3
   },
   "file_extension": ".py",
   "mimetype": "text/x-python",
   "name": "python",
   "nbconvert_exporter": "python",
   "pygments_lexer": "ipython3",
   "version": "3.10.9"
  },
  "orig_nbformat": 4,
  "vscode": {
   "interpreter": {
    "hash": "66eba28a75a64fbe1a9b9c30d27f7c856726c51cbbef86297708eae4ce175db0"
   }
  }
 },
 "nbformat": 4,
 "nbformat_minor": 2
}
