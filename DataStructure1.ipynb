{
 "cells": [
  {
   "cell_type": "code",
   "execution_count": 2,
   "metadata": {},
   "outputs": [
    {
     "name": "stdout",
     "output_type": "stream",
     "text": [
      "True\n"
     ]
    }
   ],
   "source": [
    "# 217. Contains Duplicate\n",
    "def containsDuplicate(nums) -> bool:\n",
    "        return len(nums) != len(set(nums))\n",
    "\n",
    "nums = [1,2,3,1]\n",
    "print(containsDuplicate(nums))"
   ]
  },
  {
   "cell_type": "code",
   "execution_count": 29,
   "metadata": {},
   "outputs": [
    {
     "name": "stdout",
     "output_type": "stream",
     "text": [
      "6\n"
     ]
    }
   ],
   "source": [
    "# 53. Maximum Subarray\n",
    "from cmath import inf\n",
    "\n",
    "\n",
    "def maxSubArray(nums):\n",
    "    max_for_now=-inf\n",
    "    max_ending=nums[0]\n",
    "    for i in nums:\n",
    "        if i >i+max_ending:\n",
    "            max_ending=i\n",
    "        else:\n",
    "            max_ending=i+max_ending\n",
    "        if max_ending>max_for_now:\n",
    "            max_for_now=max_ending\n",
    "    return max_for_now\n",
    "\n",
    "nums = [-2,1,-3,4,-1,2,1,-5,4]\n",
    "print(maxSubArray(nums))\n",
    "\n",
    "\n"
   ]
  },
  {
   "cell_type": "code",
   "execution_count": 41,
   "metadata": {},
   "outputs": [
    {
     "name": "stdout",
     "output_type": "stream",
     "text": [
      "1\n"
     ]
    }
   ],
   "source": [
    "# 53. Maximum Subarray\n",
    "from cmath import inf\n",
    "\n",
    "\n",
    "def maxSubArray(nums):\n",
    "    max_for_now=-inf\n",
    "    max_ending=0\n",
    "    for i in nums:\n",
    "        max_ending=max(i, i+max_ending)\n",
    "        max_for_now=max(max_for_now, max_ending)\n",
    "    return max_for_now\n",
    "\n",
    "nums = [1]\n",
    "print(maxSubArray(nums))"
   ]
  },
  {
   "cell_type": "code",
   "execution_count": 46,
   "metadata": {},
   "outputs": [
    {
     "name": "stdout",
     "output_type": "stream",
     "text": [
      "[0, 1]\n"
     ]
    }
   ],
   "source": [
    "# 1. Two Sum\n",
    "def twoSum(nums: list[int], target: int) -> list[int]: \n",
    "    for i in range(0, len(nums)):\n",
    "        for j in range(0, len(nums)):\n",
    "            if nums[i]+nums[j]==target and i!=j:\n",
    "                return [i,j] \n",
    "nums = [3,3]\n",
    "target = 6\n",
    "\n",
    "print(twoSum(nums, target))"
   ]
  },
  {
   "cell_type": "code",
   "execution_count": 49,
   "metadata": {},
   "outputs": [
    {
     "name": "stdout",
     "output_type": "stream",
     "text": [
      "(0, 1)\n"
     ]
    }
   ],
   "source": [
    "# 1. Two Sum\n",
    "def twoSum(nums: list[int], target: int) -> list[int]: \n",
    "    dict={}\n",
    "    for i in range(len(nums)):\n",
    "        rest=target-nums[i]\n",
    "        if rest in dict:\n",
    "            return dict[rest], i\n",
    "        dict[nums[i]]=i\n",
    "nums = [2,7,11,15]\n",
    "target = 9\n",
    "\n",
    "print(twoSum(nums, target))"
   ]
  },
  {
   "cell_type": "code",
   "execution_count": 135,
   "metadata": {},
   "outputs": [
    {
     "name": "stdout",
     "output_type": "stream",
     "text": [
      "[1, 2, 3, 4, 5] []\n",
      "[1, 2, 3, 4, 5]\n"
     ]
    }
   ],
   "source": [
    "# 88. Merge Sorted Array\n",
    "def merge(nums1: list[int], m: int, nums2: list[int], n: int):\n",
    "    cur=n+m\n",
    "    while cur>0 and nums2:\n",
    "        cur-=1\n",
    "        if m>0 and nums1[m-1]>nums2[-1]:\n",
    "            nums1[cur]=nums1[m-1]\n",
    "            m-=1\n",
    "        else:\n",
    "            nums1[cur]=nums2.pop()\n",
    "    print (nums1, nums2)\n",
    "    return nums1\n",
    "nums1 = [0,0,0,0,0]\n",
    "m = 0\n",
    "nums2 = [1,2,3,4,5]\n",
    "n = 5\n",
    "\n",
    "print(merge(nums1, m, nums2, n))"
   ]
  }
 ],
 "metadata": {
  "kernelspec": {
   "display_name": "Python 3",
   "language": "python",
   "name": "python3"
  },
  "language_info": {
   "codemirror_mode": {
    "name": "ipython",
    "version": 3
   },
   "file_extension": ".py",
   "mimetype": "text/x-python",
   "name": "python",
   "nbconvert_exporter": "python",
   "pygments_lexer": "ipython3",
   "version": "3.10.9"
  },
  "orig_nbformat": 4,
  "vscode": {
   "interpreter": {
    "hash": "66eba28a75a64fbe1a9b9c30d27f7c856726c51cbbef86297708eae4ce175db0"
   }
  }
 },
 "nbformat": 4,
 "nbformat_minor": 2
}
